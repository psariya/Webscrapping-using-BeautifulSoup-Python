{
 "cells": [
  {
   "cell_type": "code",
   "execution_count": 1,
   "metadata": {},
   "outputs": [],
   "source": [
    "#!pip install beautifulSoup4"
   ]
  },
  {
   "cell_type": "code",
   "execution_count": 2,
   "metadata": {},
   "outputs": [],
   "source": [
    "#!pip install requests"
   ]
  },
  {
   "cell_type": "code",
   "execution_count": 3,
   "metadata": {},
   "outputs": [],
   "source": [
    "import requests"
   ]
  },
  {
   "cell_type": "code",
   "execution_count": 4,
   "metadata": {},
   "outputs": [],
   "source": [
    "from bs4 import BeautifulSoup"
   ]
  },
  {
   "cell_type": "code",
   "execution_count": 20,
   "metadata": {},
   "outputs": [],
   "source": [
    "result = requests.get(\"https://www.cars.com/for-sale/searchresults.action/?dealerType=all&mdId=20800&mkId=20088&page=1&perPage=100&prMx=10000&rd=20&searchSource=PAGINATION&sort=relevance&stkTypId=28881&zc=33602\")"
   ]
  },
  {
   "cell_type": "code",
   "execution_count": 21,
   "metadata": {},
   "outputs": [],
   "source": [
    "#print(result.status_code) ##200 means successful"
   ]
  },
  {
   "cell_type": "code",
   "execution_count": 22,
   "metadata": {},
   "outputs": [],
   "source": [
    "#print(result.headers)"
   ]
  },
  {
   "cell_type": "code",
   "execution_count": 23,
   "metadata": {},
   "outputs": [],
   "source": [
    "src = result.content\n",
    "#print(src)"
   ]
  },
  {
   "cell_type": "code",
   "execution_count": 24,
   "metadata": {},
   "outputs": [],
   "source": [
    "soup = BeautifulSoup(src,'lxml')"
   ]
  },
  {
   "cell_type": "code",
   "execution_count": 25,
   "metadata": {},
   "outputs": [
    {
     "name": "stdout",
     "output_type": "stream",
     "text": [
      "['$5,991', '$9,981', '$7,981', '$9,550', '$4,598', '$7,995', '$9,990', '$4,998', '$7,890', '$3,000', '$8,910', '$9,599', '$4,966', '$3,998', '$9,998', '$5,999', '$7,995', '$6,500', '$6,809', '$9,874', '$3,200', '$2,550', '$9,330', '$3,900', '$2,500', '$3,700', '$5,999', '$8,296', '$4,595', '$7,995', '$5,900', '$6,999', '$2,800', '$9,991', '$4,995']\n",
      "<class 'list'>\n"
     ]
    }
   ],
   "source": [
    "price = []\n",
    "priceTags = soup.find_all(\"span\", {\"class\": \"listing-row__price\"})\n",
    "for each in priceTags:\n",
    "    p = each.text\n",
    "    price.append(p.strip())\n",
    "print(price)\n",
    "print(type(price))"
   ]
  },
  {
   "cell_type": "code",
   "execution_count": 26,
   "metadata": {},
   "outputs": [
    {
     "name": "stdout",
     "output_type": "stream",
     "text": [
      "['2010 Toyota Camry LE', '2012 Toyota Camry SE', '2012 Toyota Camry L', '2008 Toyota Camry XLE', '2009 Toyota Camry XLE', '2011 Toyota Camry XLE', '2012 Toyota Camry SE', '2004 Toyota Camry LE', '2011 Toyota Camry', '2004 Toyota Camry LE V6', '2011 Toyota Camry LE', '2008 Toyota Camry LE', '2009 Toyota Camry LE', '2000 Toyota Camry LE', '2009 Toyota Camry LE', '2007 Toyota Camry CE', '2006 Toyota Camry XLE V6', '2007 Toyota Camry SE', '2008 Toyota Camry LE', '2013 Toyota Camry L', '2004 Toyota Camry XLE', '2001 Toyota Camry CE', '2015 Toyota Camry SE', '2002 Toyota Camry XLE', '2005 Toyota Camry XLE', '1994 Toyota Camry LE', '2005 Toyota Camry LE V6', '2009 Toyota Camry SE', '2010 Toyota Camry LE', '2007 Toyota Camry XLE', '2008 Toyota Camry LE', '2011 Toyota Camry SE', '2009 Toyota Camry LE', '2013 Toyota Camry SE', '2009 Toyota Camry LE']\n",
      "<class 'list'>\n"
     ]
    }
   ],
   "source": [
    "title = []\n",
    "titleTags = soup.find_all(\"h2\")\n",
    "for each in titleTags:\n",
    "    t = each.text\n",
    "    if((\"Dealership\" not in t)):\n",
    "        title.append(t.strip())\n",
    "print(title)\n",
    "print(type(title))"
   ]
  },
  {
   "cell_type": "code",
   "execution_count": 27,
   "metadata": {},
   "outputs": [
    {
     "name": "stdout",
     "output_type": "stream",
     "text": [
      "['216,536 mi.', '80,675 mi.', '138,253 mi.', '87,460 mi.', '214,116 mi.', '142,133 mi.', '103,427 mi.', '147,538 mi.', '144,974 mi.', '166,500 mi.', '106,494 mi.', '114,187 mi.', '186,076 mi.', '132,078 mi.', '115,098 mi.', '78,288 mi.', '64,260 mi.', '122,952 mi.', '100,665 mi.', '93,068 mi.', '184,000 mi.', '177,000 mi.', '132,613 mi.', '150,827 mi.', '183,000 mi.', '50,000 mi.', '86,059 mi.', '84,328 mi.', '226,000 mi.', '98,655 mi.', '116,435 mi.', '76,317 mi.', '138,400 mi.', '93,200 mi.', '104,266 mi.']\n"
     ]
    }
   ],
   "source": [
    "mileage = []\n",
    "mileTags = soup.find_all(\"span\", {\"class\": \"listing-row__mileage\"})\n",
    "for each in mileTags:\n",
    "    m = each.text\n",
    "    mileage.append(m.strip())\n",
    "print(mileage)"
   ]
  },
  {
   "cell_type": "code",
   "execution_count": 28,
   "metadata": {},
   "outputs": [],
   "source": [
    "color = []\n",
    "liTags = soup.find_all(\"li\")\n",
    "for each in liTags:\n",
    "    strong = each.find_all(\"strong\")\n",
    "    if (strong != []):\n",
    "        for s in strong:\n",
    "            if(\"Ext. Color:\" in s.text):\n",
    "                col=each.text.split(\"\\n\")[3]\n",
    "                color.append(col.strip())"
   ]
  },
  {
   "cell_type": "code",
   "execution_count": 29,
   "metadata": {},
   "outputs": [],
   "source": [
    "transmission = []\n",
    "liTags = soup.find_all(\"li\")\n",
    "for each in liTags:\n",
    "    strong = each.find_all(\"strong\")\n",
    "    if (strong != []):\n",
    "        for s in strong:\n",
    "            if(\"Transmission:\" in s.text):\n",
    "                auto=each.text.split(\"\\n\")[3]\n",
    "                transmission.append(auto.strip())"
   ]
  },
  {
   "cell_type": "code",
   "execution_count": 30,
   "metadata": {},
   "outputs": [
    {
     "name": "stdout",
     "output_type": "stream",
     "text": [
      "                       Title   Price      Mileage Transmission   Color\n",
      "0       2010 Toyota Camry LE  $5,991  216,536 mi.    Automatic   Black\n",
      "1       2012 Toyota Camry SE  $9,981   80,675 mi.    Automatic     Red\n",
      "2        2012 Toyota Camry L  $7,981  138,253 mi.    Automatic     Red\n",
      "3      2008 Toyota Camry XLE  $9,550   87,460 mi.    Automatic    Gold\n",
      "4      2009 Toyota Camry XLE  $4,598  214,116 mi.    Automatic   Black\n",
      "5      2011 Toyota Camry XLE  $7,995  142,133 mi.    Automatic   White\n",
      "6       2012 Toyota Camry SE  $9,990  103,427 mi.    Automatic   White\n",
      "7       2004 Toyota Camry LE  $4,998  147,538 mi.    Automatic  Silver\n",
      "8          2011 Toyota Camry  $7,890  144,974 mi.    Automatic   Beige\n",
      "9    2004 Toyota Camry LE V6  $3,000  166,500 mi.    Automatic    Gray\n",
      "10      2011 Toyota Camry LE  $8,910  106,494 mi.    Automatic   White\n",
      "11      2008 Toyota Camry LE  $9,599  114,187 mi.    Automatic   Black\n",
      "12      2009 Toyota Camry LE  $4,966  186,076 mi.    Automatic  Silver\n",
      "13      2000 Toyota Camry LE  $3,998  132,078 mi.    Automatic   Black\n",
      "14      2009 Toyota Camry LE  $9,998  115,098 mi.    Automatic   White\n",
      "15      2007 Toyota Camry CE  $5,999   78,288 mi.    Automatic  Silver\n",
      "16  2006 Toyota Camry XLE V6  $7,995   64,260 mi.    Automatic  Silver\n",
      "17      2007 Toyota Camry SE  $6,500  122,952 mi.    Automatic    Gray\n",
      "18      2008 Toyota Camry LE  $6,809  100,665 mi.    Automatic    Gray\n",
      "19       2013 Toyota Camry L  $9,874   93,068 mi.    Automatic    Blue\n",
      "20     2004 Toyota Camry XLE  $3,200  184,000 mi.    Automatic    Blue\n",
      "21      2001 Toyota Camry CE  $2,550  177,000 mi.    Automatic    Gray\n",
      "22      2015 Toyota Camry SE  $9,330  132,613 mi.    Automatic    Gray\n",
      "23     2002 Toyota Camry XLE  $3,900  150,827 mi.    Automatic   Black\n",
      "24     2005 Toyota Camry XLE  $2,500  183,000 mi.    Automatic    Gold\n",
      "25      1994 Toyota Camry LE  $3,700   50,000 mi.    Automatic   Green\n",
      "26   2005 Toyota Camry LE V6  $5,999   86,059 mi.    Automatic     Red\n",
      "27      2009 Toyota Camry SE  $8,296   84,328 mi.    Automatic    Gray\n",
      "28      2010 Toyota Camry LE  $4,595  226,000 mi.    Automatic   Green\n",
      "29     2007 Toyota Camry XLE  $7,995   98,655 mi.    Automatic  Silver\n",
      "30      2008 Toyota Camry LE  $5,900  116,435 mi.    Automatic    Blue\n",
      "31      2011 Toyota Camry SE  $6,999   76,317 mi.    Automatic   Black\n",
      "32      2009 Toyota Camry LE  $2,800  138,400 mi.    Automatic    Blue\n",
      "33      2013 Toyota Camry SE  $9,991   93,200 mi.    Automatic   Other\n",
      "34      2009 Toyota Camry LE  $4,995  104,266 mi.    Automatic    Blue\n"
     ]
    }
   ],
   "source": [
    "import pandas as pd\n",
    "df = pd.DataFrame(title, columns = ['Title'])\n",
    "df[\"Price\"] = price\n",
    "df[\"Mileage\"] = mileage\n",
    "df[\"Transmission\"] = transmission\n",
    "df[\"Color\"] = color\n",
    "print(df)"
   ]
  },
  {
   "cell_type": "code",
   "execution_count": 41,
   "metadata": {},
   "outputs": [],
   "source": [
    "import csv\n",
    "f = open(\"C:/Users/Priyanka/Documents/0. USF/3. Marketing Analytics/Project 1/Book1.csv\", 'w')\n",
    "\n",
    "#String[] entries = \"first*second*third\".split(\"*\");\n",
    "for row in df:\n",
    "    wr = csv.writer(f)\n",
    "    wr.writerow(row)\n",
    "f.close()"
   ]
  },
  {
   "cell_type": "code",
   "execution_count": null,
   "metadata": {},
   "outputs": [],
   "source": []
  }
 ],
 "metadata": {
  "kernelspec": {
   "display_name": "Python 3",
   "language": "python",
   "name": "python3"
  },
  "language_info": {
   "codemirror_mode": {
    "name": "ipython",
    "version": 3
   },
   "file_extension": ".py",
   "mimetype": "text/x-python",
   "name": "python",
   "nbconvert_exporter": "python",
   "pygments_lexer": "ipython3",
   "version": "3.7.3"
  }
 },
 "nbformat": 4,
 "nbformat_minor": 2
}
