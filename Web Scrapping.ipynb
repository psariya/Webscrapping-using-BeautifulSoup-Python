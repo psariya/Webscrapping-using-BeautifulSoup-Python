{
 "cells": [
  {
   "cell_type": "code",
   "execution_count": 1,
   "metadata": {},
   "outputs": [],
   "source": [
    "#!pip install beautifulSoup4"
   ]
  },
  {
   "cell_type": "code",
   "execution_count": 2,
   "metadata": {},
   "outputs": [],
   "source": [
    "#!pip install requests"
   ]
  },
  {
   "cell_type": "code",
   "execution_count": 3,
   "metadata": {},
   "outputs": [],
   "source": [
    "import requests"
   ]
  },
  {
   "cell_type": "code",
   "execution_count": 4,
   "metadata": {},
   "outputs": [],
   "source": [
    "from bs4 import BeautifulSoup"
   ]
  },
  {
   "cell_type": "code",
   "execution_count": 5,
   "metadata": {},
   "outputs": [],
   "source": [
    "result = requests.get(\"https://www.cars.com/for-sale/searchresults.action/?mdId=20606&mkId=20017&prMx=10000&rd=20&searchSource=QUICK_FORM&stkTypId=28881&zc=33602\")"
   ]
  },
  {
   "cell_type": "code",
   "execution_count": 6,
   "metadata": {},
   "outputs": [],
   "source": [
    "#print(result.status_code) ##200 means successful"
   ]
  },
  {
   "cell_type": "code",
   "execution_count": 7,
   "metadata": {},
   "outputs": [],
   "source": [
    "#print(result.headers)"
   ]
  },
  {
   "cell_type": "code",
   "execution_count": 8,
   "metadata": {},
   "outputs": [],
   "source": [
    "src = result.content\n",
    "#print(src)"
   ]
  },
  {
   "cell_type": "code",
   "execution_count": 9,
   "metadata": {},
   "outputs": [],
   "source": [
    "soup = BeautifulSoup(src,'lxml')"
   ]
  },
  {
   "cell_type": "code",
   "execution_count": 12,
   "metadata": {},
   "outputs": [
    {
     "name": "stdout",
     "output_type": "stream",
     "text": [
      "['$7,992', '$5,299', '$7,999', '$5,999', '$6,900', '$6,499', '$7,900', '$3,900', '$7,380', '$9,994', '$8,790', '$7,916', '$4,900', '$8,523', '$9,910', '$5,494', '$7,498', '$5,608', '$9,991', '$7,000']\n",
      "<class 'list'>\n"
     ]
    }
   ],
   "source": [
    "price = []\n",
    "priceTags = soup.find_all(\"span\", {\"class\": \"listing-row__price\"})\n",
    "for each in priceTags:\n",
    "    p = each.text\n",
    "    price.append(p.strip())\n",
    "print(price)\n",
    "print(type(price))"
   ]
  },
  {
   "cell_type": "code",
   "execution_count": 13,
   "metadata": {},
   "outputs": [
    {
     "name": "stdout",
     "output_type": "stream",
     "text": [
      "['2012 Honda Accord EX-L', '2004 Honda Accord EX', '2009 Honda Accord LX', '2007 Honda Accord SE', '2010 Honda Accord LX', '2010 Honda Accord LX-P', '2009 Honda Accord EX-L', '2006 Honda Accord SE', '2008 Honda Accord EX-L', '2011 Honda Accord SE', '2010 Honda Accord EX', '2009 Honda Accord EX', '2008 Honda Accord EX-L', '2014 Honda Accord Sport', '2014 Honda Accord LX', '2007 Honda Accord EX-L', '2008 Honda Accord EX-L', '2005 Honda Accord LX', '2012 Honda Accord EX-L', '2012 Honda Accord EX-L']\n",
      "<class 'list'>\n"
     ]
    }
   ],
   "source": [
    "title = []\n",
    "titleTags = soup.find_all(\"h2\")\n",
    "for each in titleTags:\n",
    "    t = each.text\n",
    "    if((\"Dealership\" not in t)):\n",
    "        title.append(t.strip())\n",
    "print(title)\n",
    "print(type(title))"
   ]
  },
  {
   "cell_type": "code",
   "execution_count": 14,
   "metadata": {},
   "outputs": [
    {
     "name": "stdout",
     "output_type": "stream",
     "text": [
      "['130,020 mi.', '65,846 mi.', '51,508 mi.', '61,718 mi.', '117,413 mi.', '99,110 mi.', '96,249 mi.', '192,716 mi.', '103,954 mi.', '90,330 mi.', '97,664 mi.', '112,953 mi.', '145,239 mi.', '113,186 mi.', '127,331 mi.', '115,687 mi.', '96,203 mi.', '115,925 mi.', '90,751 mi.', '98,662 mi.']\n"
     ]
    }
   ],
   "source": [
    "mileage = []\n",
    "mileTags = soup.find_all(\"span\", {\"class\": \"listing-row__mileage\"})\n",
    "for each in mileTags:\n",
    "    m = each.text\n",
    "    mileage.append(m.strip())\n",
    "print(mileage)"
   ]
  },
  {
   "cell_type": "code",
   "execution_count": 15,
   "metadata": {},
   "outputs": [],
   "source": [
    "transmission = []\n",
    "liTags = soup.find_all(\"li\")\n",
    "for each in liTags:\n",
    "    strong = each.find_all(\"strong\")\n",
    "    if (strong != []):\n",
    "        for s in strong:\n",
    "            if(\"Transmission:\" in s.text):\n",
    "                auto=each.text.split(\"\\n\")[3]\n",
    "                transmission.append(auto.strip())"
   ]
  },
  {
   "cell_type": "code",
   "execution_count": 16,
   "metadata": {},
   "outputs": [
    {
     "name": "stdout",
     "output_type": "stream",
     "text": [
      "                      Title   Price      Mileage Transmission\n",
      "0    2012 Honda Accord EX-L  $7,992  130,020 mi.    Automatic\n",
      "1      2004 Honda Accord EX  $5,299   65,846 mi.    Automatic\n",
      "2      2009 Honda Accord LX  $7,999   51,508 mi.    Automatic\n",
      "3      2007 Honda Accord SE  $5,999   61,718 mi.    Automatic\n",
      "4      2010 Honda Accord LX  $6,900  117,413 mi.    Automatic\n",
      "5    2010 Honda Accord LX-P  $6,499   99,110 mi.    Automatic\n",
      "6    2009 Honda Accord EX-L  $7,900   96,249 mi.    Automatic\n",
      "7      2006 Honda Accord SE  $3,900  192,716 mi.    Automatic\n",
      "8    2008 Honda Accord EX-L  $7,380  103,954 mi.    Automatic\n",
      "9      2011 Honda Accord SE  $9,994   90,330 mi.    Automatic\n",
      "10     2010 Honda Accord EX  $8,790   97,664 mi.    Automatic\n",
      "11     2009 Honda Accord EX  $7,916  112,953 mi.    Automatic\n",
      "12   2008 Honda Accord EX-L  $4,900  145,239 mi.    Automatic\n",
      "13  2014 Honda Accord Sport  $8,523  113,186 mi.          CVT\n",
      "14     2014 Honda Accord LX  $9,910  127,331 mi.          CVT\n",
      "15   2007 Honda Accord EX-L  $5,494  115,687 mi.    Automatic\n",
      "16   2008 Honda Accord EX-L  $7,498   96,203 mi.    Automatic\n",
      "17     2005 Honda Accord LX  $5,608  115,925 mi.    Automatic\n",
      "18   2012 Honda Accord EX-L  $9,991   90,751 mi.    Automatic\n",
      "19   2012 Honda Accord EX-L  $7,000   98,662 mi.    Automatic\n"
     ]
    }
   ],
   "source": [
    "import pandas as pd\n",
    "df = pd.DataFrame(title, columns = ['Title'])\n",
    "df[\"Price\"] = price\n",
    "df[\"Mileage\"] = mileage\n",
    "df[\"Transmission\"] = transmission\n",
    "print(df)"
   ]
  },
  {
   "cell_type": "code",
   "execution_count": null,
   "metadata": {},
   "outputs": [],
   "source": []
  }
 ],
 "metadata": {
  "kernelspec": {
   "display_name": "Python 3",
   "language": "python",
   "name": "python3"
  },
  "language_info": {
   "codemirror_mode": {
    "name": "ipython",
    "version": 3
   },
   "file_extension": ".py",
   "mimetype": "text/x-python",
   "name": "python",
   "nbconvert_exporter": "python",
   "pygments_lexer": "ipython3",
   "version": "3.7.3"
  }
 },
 "nbformat": 4,
 "nbformat_minor": 2
}
